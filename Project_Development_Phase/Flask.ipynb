{
 "cells": [
  {
   "cell_type": "code",
   "execution_count": 2,
   "metadata": {},
   "outputs": [
    {
     "name": "stdout",
     "output_type": "stream",
     "text": [
      " * Serving Flask app \"__main__\" (lazy loading)\n",
      " * Environment: production\n",
      "   WARNING: This is a development server. Do not use it in a production deployment.\n",
      "   Use a production WSGI server instead.\n",
      " * Debug mode: on\n"
     ]
    },
    {
     "name": "stderr",
     "output_type": "stream",
     "text": [
      " * Restarting with windowsapi reloader\n"
     ]
    },
    {
     "ename": "SystemExit",
     "evalue": "1",
     "output_type": "error",
     "traceback": [
      "An exception has occurred, use %tb to see the full traceback.\n",
      "\u001b[1;31mSystemExit\u001b[0m\u001b[1;31m:\u001b[0m 1\n"
     ]
    }
   ],
   "source": [
    "from flask import Flask,request,render_template\n",
    "import joblib\n",
    "app=Flask(__name__)\n",
    "model=joblib.load(\"model.save\")\n",
    "app=Flask(__name__)\n",
    "@app.route('/') \n",
    "def predict():\n",
    "    return render_template('Manual_predict.html')\n",
    "\n",
    "@app.route('/y_predict', methods=['POST'])\n",
    "\n",
    "def y_predict(): \n",
    "    x_test=[[float(x) for x in request.form.values()]]\n",
    "    print('actual',x_test)\n",
    "    pred = model.predict(x_test)\n",
    "    return render_template('Manual_predict.html',prediction_text=('Car fuel Consumption (L/100km):',pred[0]))\n",
    "if __name__=='__main__':\n",
    "    app.run(host='0.0.0.0',debug=True)"
   ]
  }
 ],
 "metadata": {
  "kernelspec": {
   "display_name": "Python 3.8.8 ('base')",
   "language": "python",
   "name": "python3"
  },
  "language_info": {
   "codemirror_mode": {
    "name": "ipython",
    "version": 3
   },
   "file_extension": ".py",
   "mimetype": "text/x-python",
   "name": "python",
   "nbconvert_exporter": "python",
   "pygments_lexer": "ipython3",
   "version": "3.8.8"
  },
  "orig_nbformat": 4,
  "vscode": {
   "interpreter": {
    "hash": "b0ac210a0f94d3cb562717fad12f20f46b82a77619eba7c741dde2d9eecbc43f"
   }
  }
 },
 "nbformat": 4,
 "nbformat_minor": 2
}
